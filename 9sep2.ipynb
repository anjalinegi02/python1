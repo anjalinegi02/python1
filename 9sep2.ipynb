{
 "cells": [
  {
   "cell_type": "code",
   "execution_count": 1,
   "id": "73c9b6ce-e2d5-47af-af74-03b6ed440a53",
   "metadata": {},
   "outputs": [],
   "source": [
    "import mymodule\n"
   ]
  },
  {
   "cell_type": "code",
   "execution_count": 5,
   "id": "7b02911c-f7f4-4b51-bdb5-0a33f8da508c",
   "metadata": {},
   "outputs": [
    {
     "data": {
      "text/plain": [
       "3.14"
      ]
     },
     "execution_count": 5,
     "metadata": {},
     "output_type": "execute_result"
    }
   ],
   "source": [
    "from mymodule import PI\n",
    "mymodule.PI"
   ]
  },
  {
   "cell_type": "code",
   "execution_count": 7,
   "id": "cf361dbf-f090-438b-b3d2-916930fe21f6",
   "metadata": {},
   "outputs": [
    {
     "data": {
      "text/plain": [
       "3.14"
      ]
     },
     "execution_count": 7,
     "metadata": {},
     "output_type": "execute_result"
    }
   ],
   "source": [
    "import mymodule as m1\n",
    "m1.PI"
   ]
  },
  {
   "cell_type": "code",
   "execution_count": 8,
   "id": "35a94864-a16d-4f6c-9f3d-29c2a579fcd0",
   "metadata": {},
   "outputs": [
    {
     "data": {
      "text/plain": [
       "3.14"
      ]
     },
     "execution_count": 8,
     "metadata": {},
     "output_type": "execute_result"
    }
   ],
   "source": [
    "from mymodule import PI as pi1\n",
    "pi1"
   ]
  },
  {
   "cell_type": "code",
   "execution_count": 12,
   "id": "c192c3d8-0aa8-4723-97ea-9b8b8856fda4",
   "metadata": {},
   "outputs": [
    {
     "name": "stdout",
     "output_type": "stream",
     "text": [
      "executed as main file\n",
      "addition of 1 and 2 is 3\n"
     ]
    }
   ],
   "source": [
    "!python mymodule.py"
   ]
  },
  {
   "cell_type": "code",
   "execution_count": 15,
   "id": "66a30b11-c961-439d-af23-b16b60074986",
   "metadata": {},
   "outputs": [
    {
     "name": "stdout",
     "output_type": "stream",
     "text": [
      "Current time (in seconds since Epoch): 1725858327.4419053\n",
      "Pausing for 2 seconds...\n",
      "Current time (readable): Mon Sep  9 10:35:27 2024\n"
     ]
    }
   ],
   "source": [
    "import time\n",
    "current_time = time.time()\n",
    "print(\"Current time (in seconds since Epoch):\", current_time)#Pause the program for 2 seconds\n",
    "\n",
    "\n",
    "print(\"Pausing for 2 seconds...\")\n",
    "time.sleep(2)#Get the current time as a readable string\n",
    "\n",
    "\n",
    "readable_time = time.ctime(current_time)\n",
    "print(\"Current time (readable):\", readable_time)"
   ]
  },
  {
   "cell_type": "code",
   "execution_count": null,
   "id": "73384530-68f8-4ee4-9fa9-2e1fbee123b4",
   "metadata": {},
   "outputs": [],
   "source": []
  }
 ],
 "metadata": {
  "kernelspec": {
   "display_name": "Python 3 (ipykernel)",
   "language": "python",
   "name": "python3"
  },
  "language_info": {
   "codemirror_mode": {
    "name": "ipython",
    "version": 3
   },
   "file_extension": ".py",
   "mimetype": "text/x-python",
   "name": "python",
   "nbconvert_exporter": "python",
   "pygments_lexer": "ipython3",
   "version": "3.12.5"
  }
 },
 "nbformat": 4,
 "nbformat_minor": 5
}
