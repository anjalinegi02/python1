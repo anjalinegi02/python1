{
 "cells": [
  {
   "cell_type": "code",
   "execution_count": null,
   "id": "7c16686c-2825-4246-8956-305747a35a42",
   "metadata": {},
   "outputs": [],
   "source": [
    "#input\n",
    "list=[123,234]\n",
    "#output\n",
    "res=[\"123@stu.upes.ac.in\",\"234@stu.upes.ac.in\"]\n",
    "#1 without using map,filter lambda or list comprehension\n",
    "#2 using map, filter ,lambda without using list comprehension\n",
    "#3 using list comprehension\n"
   ]
  },
  {
   "cell_type": "code",
   "execution_count": 3,
   "id": "7cba985b-2ee0-45bf-bbf0-efab3729c76d",
   "metadata": {},
   "outputs": [
    {
     "name": "stdout",
     "output_type": "stream",
     "text": [
      "res= ['123@stu.upes.ac.in', '234@stu.upes.ac.in']\n"
     ]
    }
   ],
   "source": [
    "#1 without using map,filter lambda or list comprehension\n",
    "list=[123,234]\n",
    "res=[]\n",
    "for i in list:\n",
    "    email=str(i)+\"@stu.upes.ac.in\"\n",
    "    res.append(email)\n",
    "print(\"res=\",res)"
   ]
  },
  {
   "cell_type": "code",
   "execution_count": 21,
   "id": "60da53b6-192f-4451-ae6e-02516e008ba8",
   "metadata": {},
   "outputs": [
    {
     "name": "stdout",
     "output_type": "stream",
     "text": [
      "[123, 234]\n",
      "res= ['123@stu.upes.ac.in', '234@stu.upes.ac.in']\n"
     ]
    }
   ],
   "source": [
    "def generate_email_address(sap_ids):\n",
    "    email_list=[]\n",
    "    for id in sap_ids:\n",
    "        email= f\"{id}@stu.upes.ac.in\"\n",
    "        email_list.append(email)\n",
    "    return email_list\n",
    "    \n",
    "\n",
    "sap_ids=[123,234]\n",
    "res=generate_email_address(sap_ids)\n",
    "print(sap_ids)\n",
    "print(\"res=\",res)"
   ]
  },
  {
   "cell_type": "code",
   "execution_count": 30,
   "id": "870efe4c-8d29-4cdc-a9ad-fc434413bcca",
   "metadata": {},
   "outputs": [
    {
     "name": "stdout",
     "output_type": "stream",
     "text": [
      "[123, 234, 456]\n",
      "<map object at 0x000001CBFC3F63B0>\n"
     ]
    }
   ],
   "source": [
    "#2 logic\n",
    "def id_to_email(id):\n",
    "    email=f\"{id}@stu.upes.ac.in\"\n",
    "    return email\n",
    "#id_to_email\n",
    "sap_ids=[123,234,456]\n",
    "res = (map(id_to_email,sap_ids))\n",
    "print(sap_ids)\n",
    "print (res)"
   ]
  },
  {
   "cell_type": "code",
   "execution_count": 23,
   "id": "0ab5a220-120a-4450-b5f9-76b3cd2315f4",
   "metadata": {},
   "outputs": [
    {
     "name": "stdout",
     "output_type": "stream",
     "text": [
      "[123, 234, 456]\n",
      "['123@stu.upes.ac.in', '234@stu.upes.ac.in', '456@stu.upes.ac.in']\n"
     ]
    }
   ],
   "source": [
    "#3 using list comp\n",
    "res=[f\"{id}@stu.upes.ac.in\" for id in sap_ids]\n",
    "print(sap_ids)\n",
    "print(res)"
   ]
  },
  {
   "cell_type": "code",
   "execution_count": 1,
   "id": "59d61a6e-d60e-4c9a-8efe-4d979a95ffa8",
   "metadata": {},
   "outputs": [
    {
     "name": "stdout",
     "output_type": "stream",
     "text": [
      "Current time (in seconds): 1727011557.4986985\n"
     ]
    }
   ],
   "source": [
    "#Getting the Current Time\n",
    "import time\n",
    "current_time = time.time()\n",
    "print(\"Current time (in seconds):\", current_time)"
   ]
  },
  {
   "cell_type": "code",
   "execution_count": 2,
   "id": "fe30d183-5d6b-4c4a-9df2-0c9222302b5e",
   "metadata": {},
   "outputs": [
    {
     "name": "stdout",
     "output_type": "stream",
     "text": [
      "Start\n",
      "End after 2 seconds\n"
     ]
    }
   ],
   "source": [
    "#Pausing Execution (sleep):\n",
    "import time\n",
    "print(\"Start\")\n",
    "time.sleep(2)  \n",
    "print(\"End after 2 seconds\")"
   ]
  },
  {
   "cell_type": "code",
   "execution_count": null,
   "id": "cc387641-7ed1-4bfd-8af3-04c42e454ece",
   "metadata": {},
   "outputs": [],
   "source": []
  }
 ],
 "metadata": {
  "kernelspec": {
   "display_name": "Python 3 (ipykernel)",
   "language": "python",
   "name": "python3"
  },
  "language_info": {
   "codemirror_mode": {
    "name": "ipython",
    "version": 3
   },
   "file_extension": ".py",
   "mimetype": "text/x-python",
   "name": "python",
   "nbconvert_exporter": "python",
   "pygments_lexer": "ipython3",
   "version": "3.12.5"
  }
 },
 "nbformat": 4,
 "nbformat_minor": 5
}
