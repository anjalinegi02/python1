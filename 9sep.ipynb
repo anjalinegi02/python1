{
 "cells": [
  {
   "cell_type": "code",
   "execution_count": 1,
   "id": "5e83fc36-81b0-4c27-ad7b-66a4a5777db5",
   "metadata": {},
   "outputs": [
    {
     "name": "stdout",
     "output_type": "stream",
     "text": [
      "8\n"
     ]
    }
   ],
   "source": [
    "# Lambda function to add two numbers\n",
    "\n",
    "add = lambda a, b: a + b\n",
    "print(add(3, 5))  # Output: 8Using a lambda function with map"
   ]
  },
  {
   "cell_type": "code",
   "execution_count": 2,
   "id": "7dd8b4f5-ab7a-41bf-b0e1-925f6892c46e",
   "metadata": {},
   "outputs": [
    {
     "name": "stdout",
     "output_type": "stream",
     "text": [
      "[1, 4, 9, 16]\n"
     ]
    }
   ],
   "source": [
    "numbers = [1, 2, 3, 4]\n",
    "squared = map(lambda x: x * x, numbers)\n",
    "print(list(squared))  # Output: [1, 4, 9, 16]"
   ]
  },
  {
   "cell_type": "code",
   "execution_count": 3,
   "id": "79cf25ed-99e6-433a-88fe-377b9df4215d",
   "metadata": {},
   "outputs": [
    {
     "name": "stdout",
     "output_type": "stream",
     "text": [
      "[0, 4, 16, 36, 64]\n"
     ]
    }
   ],
   "source": [
    "# Example: Creating a list of squares of even numbers from 0 to 9 without list comprehension\n",
    "\n",
    "squares = []\n",
    "for i in range(10):\n",
    "    if i % 2 == 0:\n",
    "        squares.append(i ** 2)\n",
    "print(squares)"
   ]
  },
  {
   "cell_type": "code",
   "execution_count": 4,
   "id": "c72b2809-9557-43ac-8fcc-9517885360e5",
   "metadata": {},
   "outputs": [
    {
     "name": "stdout",
     "output_type": "stream",
     "text": [
      "[0, 4, 16, 36, 64]\n"
     ]
    }
   ],
   "source": [
    "# The same functionality using list comprehension\n",
    "squares = [i ** 2 for i in range(10) if i % 2 == 0]\n",
    "print(squares)  # Output: [0, 4, 16, 36, 64]"
   ]
  },
  {
   "cell_type": "code",
   "execution_count": null,
   "id": "58139195-27f2-4ab7-bc33-9a47edd5edaf",
   "metadata": {},
   "outputs": [],
   "source": []
  }
 ],
 "metadata": {
  "kernelspec": {
   "display_name": "Python 3 (ipykernel)",
   "language": "python",
   "name": "python3"
  },
  "language_info": {
   "codemirror_mode": {
    "name": "ipython",
    "version": 3
   },
   "file_extension": ".py",
   "mimetype": "text/x-python",
   "name": "python",
   "nbconvert_exporter": "python",
   "pygments_lexer": "ipython3",
   "version": "3.12.5"
  }
 },
 "nbformat": 4,
 "nbformat_minor": 5
}
