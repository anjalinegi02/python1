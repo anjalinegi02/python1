{
 "cells": [
  {
   "cell_type": "code",
   "execution_count": 2,
   "id": "e1820d27-c0ca-41b8-a69e-ae3869a44718",
   "metadata": {},
   "outputs": [
    {
     "name": "stdout",
     "output_type": "stream",
     "text": [
      "Data has been serialized and saved to data.pickle\n"
     ]
    }
   ],
   "source": [
    "import pickle\n",
    "#A Python object (dictionary in this case)\n",
    "data = {\"name\": \"Alice\", \"age\": 30, \"occupation\": \"Engineer\"}#Open a file in binary write mode\n",
    "with open(\"data.pickle\", \"wb\") as file:\n",
    "    # Pickle the Python object and save it to file\n",
    "    pickle.dump(data, file)\n",
    "print(\"Data has been serialized and saved to data.pickle\")"
   ]
  },
  {
   "cell_type": "code",
   "execution_count": 4,
   "id": "78e57ad9-c058-479e-a82b-c696ab0a1808",
   "metadata": {},
   "outputs": [],
   "source": [
    "import pickle\n",
    "list=[1,2,3,4,5,6] #object to be saved\n",
    "fileName=\"data.pickle\" #fileName\n",
    "#fileHandle= open(fileName,\"wb\")\n",
    "#pickle.dump(list,fileHandle) \n",
    "#fileHandle.close()\n",
    "with open(fileName,\"wb\") as fileHandle:\n",
    "    pickle.dump(list,fileHandle)\n",
    "       \n",
    "    \n",
    "\n",
    "\n",
    "\n"
   ]
  },
  {
   "cell_type": "code",
   "execution_count": 6,
   "id": "cb1d1b10-ed50-401a-83db-19d97bdb8aaa",
   "metadata": {},
   "outputs": [
    {
     "name": "stdout",
     "output_type": "stream",
     "text": [
      "Deserialized data: [1, 2, 3, 4, 5, 6]\n"
     ]
    }
   ],
   "source": [
    "import pickle\n",
    "with open (\"data.pickle\",\"rb\") as fileHandle:\n",
    "    loaded_data=pickle.load(fileHandle)\n",
    "print(\"Deserialized data:\", loaded_data)"
   ]
  },
  {
   "cell_type": "code",
   "execution_count": 9,
   "id": "1a91c104-9357-457d-a2a0-a164fa0dd43a",
   "metadata": {},
   "outputs": [
    {
     "name": "stdout",
     "output_type": "stream",
     "text": [
      "data read is [1, 2, 3, 4] \n",
      "its type is <class 'str'> and \n",
      "length is 12\n",
      "1,2,3,4\n",
      "Recovered list is ['1', '2', '3', '4']\n",
      "Its type is <class 'list'>\n"
     ]
    }
   ],
   "source": [
    "filePath=\"listData.txt\"\n",
    "data=[1,2,3,4]\n",
    "with open (filePath,\"w\") as fileHandle:\n",
    "    fileHandle.write(str(data))\n",
    "with open(filePath,\"r\")as fileHandle:\n",
    "    readData=fileHandle.read()\n",
    "    print(f\"data read is {readData} \\nits type is {type(readData)} and \\nlength is {len(readData)}\")\n",
    "    tempvar=(readData[1:len(readData)-1].replace(\" \",''))\n",
    "    print(tempvar)\n",
    "    listPlaceHolder=tempvar.split(\",\")\n",
    "    recoveredList=listPlaceHolder\n",
    "    print(f\"Recovered list is {recoveredList}\\nIts type is {type(recoveredList)}\")\n",
    "    "
   ]
  },
  {
   "cell_type": "code",
   "execution_count": 4,
   "id": "d3d99afb-ee4c-44df-b67b-d3028cbf5ec0",
   "metadata": {},
   "outputs": [
    {
     "name": "stdout",
     "output_type": "stream",
     "text": [
      "Hello world !\n"
     ]
    }
   ],
   "source": [
    "def outer_function(msg):\n",
    "    def inner_func():\n",
    "        print(msg)\n",
    "    return inner_func\n",
    "closure=outer_function(\"Hello world !\")\n",
    "closure()"
   ]
  },
  {
   "cell_type": "code",
   "execution_count": 8,
   "id": "59eddb7e-ca42-4c33-86a7-890ef8acda76",
   "metadata": {},
   "outputs": [
    {
     "name": "stdout",
     "output_type": "stream",
     "text": [
      "1\n",
      "2\n",
      "1\n"
     ]
    }
   ],
   "source": [
    "def counter():\n",
    "    count = 0\n",
    "    def increment():\n",
    "        nonlocal count\n",
    "        count += 1\n",
    "        return count\n",
    "    return increment\n",
    "counter1 = counter()\n",
    "counter1 = counter()\n",
    "print(counter1())  \n",
    "print(counter1())  \n",
    "counter2 = counter()\n",
    "print(counter2()) \n",
    "\n",
    " "
   ]
  },
  {
   "cell_type": "code",
   "execution_count": null,
   "id": "15b4c38b-115b-4231-82ea-faea28a17125",
   "metadata": {},
   "outputs": [],
   "source": []
  }
 ],
 "metadata": {
  "kernelspec": {
   "display_name": "Python 3 (ipykernel)",
   "language": "python",
   "name": "python3"
  },
  "language_info": {
   "codemirror_mode": {
    "name": "ipython",
    "version": 3
   },
   "file_extension": ".py",
   "mimetype": "text/x-python",
   "name": "python",
   "nbconvert_exporter": "python",
   "pygments_lexer": "ipython3",
   "version": "3.12.5"
  }
 },
 "nbformat": 4,
 "nbformat_minor": 5
}
